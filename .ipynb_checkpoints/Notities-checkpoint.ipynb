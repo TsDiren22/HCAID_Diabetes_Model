{
 "cells": [
  {
   "cell_type": "code",
   "execution_count": null,
   "id": "c35f6dcf-701b-48f5-a0f9-1df26574e1ff",
   "metadata": {},
   "outputs": [],
   "source": [
    "import matplotlib.pyplot as plt\n",
    "import pandas as pd\n",
    "import numpy as np\n",
    "import seaborn as sns\n",
    "from sklearn.calibration import LabelEncoder\n",
    "from tensorflow.keras.models import Sequential\n",
    "from tensorflow.keras.layers import Dense\n",
    "from tensorflow.keras.optimizers import Adam\n",
    "from sklearn.model_selection import train_test_split\n",
    "\n",
    "# Show all columns and rows\n",
    "pd.set_option('display.max_columns', None)\n",
    "pd.set_option('display.max_rows', None)\n",
    "\n",
    "# Import the data\n",
    "df = pd.read_csv('diabetes_prediction_dataset.csv')\n",
    "#df_test = pd.read_csv('Testing.csv')\n",
    "\n",
    "\n",
    "#df = df.drop(df.columns[-1], axis=1)\n",
    "\n",
    "label_encoder = LabelEncoder()\n",
    "df['gender_encoded'] = label_encoder.fit_transform(df['gender'])\n",
    "df['smoking_history_encoded'] = label_encoder.fit_transform(df['smoking_history'])\n",
    "\n",
    "df.head()"
   ]
  },
  {
   "cell_type": "code",
   "execution_count": null,
   "id": "817524ae",
   "metadata": {},
   "outputs": [],
   "source": [
    "# Barplot of the prognosis\n",
    "plt.figure(figsize=(20, 10))\n",
    "sns.countplot(df['diabetes'])\n",
    "plt.xticks(rotation=90)\n",
    "plt.show()"
   ]
  },
  {
   "cell_type": "code",
   "execution_count": null,
   "id": "48d477af",
   "metadata": {},
   "outputs": [],
   "source": [
    "df.corr()"
   ]
  },
  {
   "cell_type": "code",
   "execution_count": null,
   "id": "d28473e6",
   "metadata": {},
   "outputs": [],
   "source": [
    "# Split data into test and train\n",
    "train, test = train_test_split(df, test_size=0.3, random_state=42)\n",
    "\n",
    "\n",
    "# Split data into X and y\n",
    "\n",
    "X_train = train[['age', 'hypertension', 'heart_disease', 'bmi', 'HbA1c_level', 'blood_glucose_level', 'gender_encoded', 'smoking_history_encoded']]\n",
    "y_train = train['diabetes']\n",
    "\n",
    "X_test = test[['age', 'hypertension', 'heart_disease', 'bmi', 'HbA1c_level', 'blood_glucose_level', 'gender_encoded', 'smoking_history_encoded']]\n",
    "y_test = test['diabetes']\n",
    "\n"
   ]
  },
  {
   "cell_type": "code",
   "execution_count": null,
   "id": "75db611e",
   "metadata": {},
   "outputs": [],
   "source": [
    "from sklearn.discriminant_analysis import StandardScaler\n",
    "\n",
    "\n",
    "scaler = StandardScaler()\n",
    "xtrain = scaler.fit_transform(X_train)\n",
    "xtest = scaler.transform(X_test)"
   ]
  },
  {
   "cell_type": "code",
   "execution_count": null,
   "id": "e6d1f527",
   "metadata": {},
   "outputs": [],
   "source": [
    "model = Sequential(\n",
    "    [\n",
    "        Dense(32, input_shape=(X_train.shape[1],), activation='relu'),\n",
    "        Dense(32, activation=\"relu\"),\n",
    "        Dense(1, activation=\"sigmoid\"),\n",
    "    ]\n",
    ")\n",
    "\n",
    "model.compile(optimizer=Adam(), loss='binary_crossentropy', metrics=['accuracy', 'AUC', 'MeanSquaredError'])"
   ]
  },
  {
   "cell_type": "code",
   "execution_count": null,
   "id": "49de2911",
   "metadata": {},
   "outputs": [],
   "source": [
    "history = model.fit(\n",
    "    X_train,\n",
    "    y_train,\n",
    "    epochs=100,\n",
    "    batch_size=32,\n",
    "    validation_data=(X_test, y_test),\n",
    ")"
   ]
  },
  {
   "cell_type": "code",
   "execution_count": null,
   "id": "7f201012",
   "metadata": {},
   "outputs": [],
   "source": [
    "test_loss, test_accuracy, test_auc, test_mean_squared_error = model.evaluate(X_test, y_test)\n",
    "\n",
    "fig, axes = plt.subplots(2, 2, figsize=(12, 10))\n",
    "\n",
    "# Plot Training and Test Loss\n",
    "axes[0, 0].plot(history.history[\"loss\"], label='Training Loss', color='b')\n",
    "axes[0, 0].plot(history.history[\"val_loss\"], label='Test Loss', color='r')\n",
    "axes[0, 0].set_title('Loss')\n",
    "axes[0, 0].set_xlabel('Epochs')\n",
    "axes[0, 0].set_ylabel('Loss')\n",
    "axes[0, 0].legend(loc='upper right')\n",
    "\n",
    "# Plot Training and Test AUC\n",
    "axes[0, 1].plot(history.history[\"auc\"], label='Training AUC', color='b')\n",
    "axes[0, 1].plot(history.history[\"val_auc\"], label='Test AUC', color='r')\n",
    "axes[0, 1].set_title('AUC')\n",
    "axes[0, 1].set_xlabel('Epochs')\n",
    "axes[0, 1].set_ylabel('AUC')\n",
    "axes[0, 1].legend(loc='lower right')\n",
    "\n",
    "# Plot Training and Test Mean Squared Error (MSE)\n",
    "axes[1, 0].plot(history.history[\"mean_squared_error\"], label='Training MSE', color='b')\n",
    "axes[1, 0].plot([test_mean_squared_error] * len(history.history[\"mean_squared_error\"]), label='Test MSE', color='r')\n",
    "axes[1, 0].set_title('Mean Squared Error (MSE)')\n",
    "axes[1, 0].set_xlabel('Epochs')\n",
    "axes[1, 0].set_ylabel('MSE')\n",
    "axes[1, 0].legend(loc='upper right')\n",
    "\n",
    "# Plot Training and Test Accuracy\n",
    "axes[1, 1].plot(history.history[\"accuracy\"], label='Training Accuracy', color='b')\n",
    "axes[1, 1].plot([test_accuracy] * len(history.history[\"accuracy\"]), label='Test Accuracy', color='r')\n",
    "axes[1, 1].set_title('Accuracy')\n",
    "axes[1, 1].set_xlabel('Epochs')\n",
    "axes[1, 1].set_ylabel('Accuracy')\n",
    "axes[1, 1].legend(loc='upper right')\n",
    "\n",
    "plt.tight_layout()\n",
    "plt.show()\n",
    "print(\"Test Loss:\", test_loss)\n",
    "\n",
    "model.save_weights('cnn2.h5')\n",
    "model.save(\"modeldigit.keras\")\n"
   ]
  },
  {
   "cell_type": "code",
   "execution_count": null,
   "id": "f0519a5e",
   "metadata": {},
   "outputs": [],
   "source": [
    "from sklearn.metrics import confusion_matrix, classification_report, f1_score\n",
    "\n",
    "# Step 1: Make predictions on test data\n",
    "y_pred = model.predict(X_test)\n",
    "y_pred_classes = np.argmax(y_pred, axis=1)  # Convert one-hot encoded predictions to class labels\n",
    "\n",
    "# Step 2: Compute the confusion matrix using true class labels\n",
    "y_true_classes = np.argmax(y_test, axis=1)  # Convert one-hot encoded true labels to class labels\n",
    "confusion_mtx = confusion_matrix(y_true_classes, y_pred_classes)\n",
    "\n",
    "# Step 3: Calculate the F1-score\n",
    "f1 = f1_score(y_true_classes, y_pred_classes, average='weighted')\n",
    "\n",
    "# Save the classification report to a text file\n",
    "with open('classification_report.txt', 'w') as report_file:\n",
    "    report = classification_report(y_true_classes, y_pred_classes)\n",
    "    report_file.write(report)\n",
    "\n",
    "# Print the confusion matrix\n",
    "print(\"Confusion Matrix:\")\n",
    "print(confusion_mtx)\n",
    "\n",
    "# Print the F1-score\n",
    "print(\"\\nWeighted F1-Score:\", f1)\n"
   ]
  }
 ],
 "metadata": {
  "kernelspec": {
   "display_name": "Python 3 (ipykernel)",
   "language": "python",
   "name": "python3"
  },
  "language_info": {
   "codemirror_mode": {
    "name": "ipython",
    "version": 3
   },
   "file_extension": ".py",
   "mimetype": "text/x-python",
   "name": "python",
   "nbconvert_exporter": "python",
   "pygments_lexer": "ipython3",
   "version": "3.7.16"
  }
 },
 "nbformat": 4,
 "nbformat_minor": 5
}
